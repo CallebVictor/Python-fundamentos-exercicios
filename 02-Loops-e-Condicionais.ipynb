{
 "cells": [
  {
   "cell_type": "markdown",
   "metadata": {},
   "source": [
    "### Exercício 2 - Crie uma lista de 5 frutas e verifique se a fruta 'Morango' faz parte da lista"
   ]
  },
  {
   "cell_type": "code",
   "execution_count": 6,
   "metadata": {},
   "outputs": [
    {
     "name": "stdout",
     "output_type": "stream",
     "text": [
      "Este não é o morango... Continue procurando\n",
      "Este não é o morango... Continue procurando\n",
      "Achei o morango na lista!\n"
     ]
    }
   ],
   "source": [
    "listaFrutas = ['uva', 'banana', 'morango', 'melancia', 'pera']\n",
    "\n",
    "for fruta in listaFrutas:\n",
    "    if fruta == 'morango':\n",
    "        print('Achei o morango na lista!')\n",
    "        break\n",
    "    else:\n",
    "        print('Este não é o morango... Continue procurando')"
   ]
  },
  {
   "cell_type": "code",
   "execution_count": null,
   "metadata": {},
   "outputs": [],
   "source": []
  }
 ],
 "metadata": {
  "kernelspec": {
   "display_name": "Python 3",
   "language": "python",
   "name": "python3"
  },
  "language_info": {
   "codemirror_mode": {
    "name": "ipython",
    "version": 3
   },
   "file_extension": ".py",
   "mimetype": "text/x-python",
   "name": "python",
   "nbconvert_exporter": "python",
   "pygments_lexer": "ipython3",
   "version": "3.7.6"
  }
 },
 "nbformat": 4,
 "nbformat_minor": 4
}
