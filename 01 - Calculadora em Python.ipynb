{
 "cells": [
  {
   "cell_type": "code",
   "execution_count": null,
   "metadata": {},
   "outputs": [],
   "source": [
    "print('Selecione o número da operação desejada: \\n')\n",
    "print('1 - Soma \\n2 - Subtração \\n3 - Multiplicação \\n4 - Divisão')\n",
    "\n",
    "\n",
    "opcao = (input('Digite sua opção (1/2/3/4): '))\n",
    "    \n",
    "        \n",
    "\n",
    "def soma(a,b):\n",
    "    adicao = a + b\n",
    "    print('A soma de ' + str(a) + ' com ' + str(b) + ' é igual a: ' + str(adicao))\n",
    "    \n",
    "def multi(a,b):\n",
    "    multiplicacao = a * b\n",
    "    print('A multiplicação de ' + str(a) + ' com ' + str(b) + ' é igual a: ' + str(multiplicacao))\n",
    "    \n",
    "def divi(a,b):\n",
    "    divisao = a / b\n",
    "    print('A divisão de ' + str(a) + ' com ' + str(b) + ' é igual a: ' + str(divisao))\n",
    "    \n",
    "def sub(a,b):\n",
    "    subtracao = a - b\n",
    "    print('A subtração de ' + str(a) + ' com ' + str(b) + ' é igual a: ' + str(subtracao))\n",
    "    \n",
    "    \n",
    "if opcao == '1':\n",
    "    num1 = int(input('Digite um numero: '))\n",
    "    num2 = int(input('Digite outro numero: '))\n",
    "    soma(num1,num2)\n",
    "    \n",
    "elif opcao == '2':\n",
    "        num1 = int(input('Digite um numero: '))\n",
    "        num2 = int(input('Digite outro numero: '))\n",
    "        sub(num1,num2)\n",
    "    \n",
    "    \n",
    "elif opcao == '3':\n",
    "       num1 = int(input('Digite um numero: '))\n",
    "       num2 = int(input('Digite outro numero: '))\n",
    "       multi(num1,num2)\n",
    "    \n",
    "    \n",
    "    elif opcao == '4':\n",
    "          num1 = int(input('Digite um numero: '))\n",
    "          num2 = int(input('Digite outro numero: '))\n",
    "          divi(num1,num2)\n",
    "      \n",
    "    \n",
    "    \n",
    "    else:\n",
    "        print('O valor digitado não corresponde a uma operação informada acima!')\n",
    "        \n",
    "   \n",
    "\n",
    "    "
   ]
  },
  {
   "cell_type": "code",
   "execution_count": null,
   "metadata": {},
   "outputs": [],
   "source": []
  },
  {
   "cell_type": "code",
   "execution_count": null,
   "metadata": {},
   "outputs": [],
   "source": []
  }
 ],
 "metadata": {
  "kernelspec": {
   "display_name": "Python 3",
   "language": "python",
   "name": "python3"
  },
  "language_info": {
   "codemirror_mode": {
    "name": "ipython",
    "version": 3
   },
   "file_extension": ".py",
   "mimetype": "text/x-python",
   "name": "python",
   "nbconvert_exporter": "python",
   "pygments_lexer": "ipython3",
   "version": "3.7.6"
  }
 },
 "nbformat": 4,
 "nbformat_minor": 4
}
